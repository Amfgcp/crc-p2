{
 "cells": [
  {
   "cell_type": "code",
   "execution_count": null,
   "metadata": {},
   "outputs": [],
   "source": [
    "'''\n",
    "This code is not ready! I still have to add comments and some variable names *need* changing!\n",
    "'''\n",
    "\n",
    "import networkx as nx\n",
    "import random\n",
    "import copy\n",
    "import time\n",
    "import matplotlib.pyplot as plt\n",
    "import sys\n",
    "%matplotlib inline\n",
    "\n",
    "def progressBar(value, endvalue, bar_length=20):\n",
    "\n",
    "        percent = float(value) / endvalue\n",
    "        arrow = '-' * int(round(percent * bar_length)-1) + '>'\n",
    "        spaces = ' ' * (bar_length - len(arrow))\n",
    "\n",
    "        sys.stdout.write(\"\\rCalculating: [{0}] {1}%\".format(arrow + spaces, int(round(percent * 100))))\n",
    "        sys.stdout.flush()\n",
    "\n",
    "        \n",
    "def kawai_draw(G, infected=[]) :\n",
    "    colors = []\n",
    "    for node in G :\n",
    "        if node in infected :\n",
    "            colors.append('red')\n",
    "        else :\n",
    "            colors.append('green')\n",
    "    nx.draw(G, layout=nx.kamada_kawai_layout(G), node_color=colors, node_size = 30, alpha = 0.7)\n",
    "    plt.show()\n",
    "    \n",
    "#G = nx.scale_free_graph(1000)\n",
    "\n",
    "G = nx.scale_free_graph(1000)\n",
    "G = G.to_undirected()"
   ]
  },
  {
   "cell_type": "code",
   "execution_count": null,
   "metadata": {},
   "outputs": [],
   "source": [
    "kawai_draw(G)"
   ]
  },
  {
   "cell_type": "code",
   "execution_count": null,
   "metadata": {},
   "outputs": [],
   "source": [
    "def generate_egos(G, node, max_radius):\n",
    "    resulting_G = []\n",
    "    \n",
    "    G_ego = nx.ego_graph(G, node, radius=1)\n",
    "    if len(G_ego) > 1 :\n",
    "        resulting_G.append(G_ego)\n",
    "        G_ego_previous = G_ego\n",
    "\n",
    "        for i in range(2, max_radius+1) :\n",
    "            G_ego = nx.ego_graph(G, node, radius=i)\n",
    "            G_ego_toremove = copy.deepcopy(G_ego)\n",
    "            G_ego_toremove.remove_nodes_from(G_ego_previous)\n",
    "            G_ego_previous = G_ego\n",
    "\n",
    "            if len(G_ego_toremove) > 0 :\n",
    "                resulting_G.append(G_ego_toremove)\n",
    "            else :\n",
    "                break\n",
    "\n",
    "        resulting_G[0].remove_node(node)\n",
    "    return resulting_G\n",
    "\n",
    "def generate_egos_allnodes(G, max_radius) :\n",
    "    result = []\n",
    "    \n",
    "    nodecount = 1\n",
    "    for node in G :\n",
    "        progressBar(nodecount, len(G), 50)\n",
    "        result.append(generate_egos(G, node, max_radius))\n",
    "        nodecount +=1\n",
    "        \n",
    "    return result\n",
    "\n",
    "radius_split = generate_egos_allnodes(G, 10)"
   ]
  },
  {
   "cell_type": "code",
   "execution_count": null,
   "metadata": {
    "scrolled": true
   },
   "outputs": [],
   "source": [
    "def infected_percentage(G, infected) :\n",
    "    \n",
    "    count = 0\n",
    "    \n",
    "    for node in G :\n",
    "        if node in infected :\n",
    "            count += 1\n",
    "        \n",
    "    return count / len(G)\n",
    "\n",
    "def infected_average_by_radius(G, Gs_list, radius, infected) :\n",
    "    node_count = []\n",
    "    percentage_sum = []\n",
    "    for _ in range(0, radius) :\n",
    "        node_count.append(0)\n",
    "        percentage_sum.append(0)\n",
    "            \n",
    "    current_node = 0\n",
    "    for node in Gs_list :\n",
    "        if current_node in infected :\n",
    "            current_radius = 0\n",
    "            for item in node :\n",
    "                percentage_sum[current_radius] += infected_percentage(item, infected)\n",
    "                node_count[current_radius] += 1\n",
    "                current_radius += 1\n",
    "        current_node += 1\n",
    "        \n",
    "    average_by_radius = []\n",
    "    for i in range(0, radius) :\n",
    "        if node_count[i] > 0 :\n",
    "            average_by_radius.append(percentage_sum[i] / node_count[i])\n",
    "        \n",
    "    return average_by_radius\n"
   ]
  },
  {
   "cell_type": "code",
   "execution_count": null,
   "metadata": {
    "scrolled": false
   },
   "outputs": [],
   "source": [
    "import networkx as nx\n",
    "import ndlib.models.ModelConfig as mc\n",
    "import ndlib.models.epidemics.SIModel as si\n",
    "\n",
    "# Model selection\n",
    "model = si.SIModel(G)\n",
    "\n",
    "# Model Configuration\n",
    "cfg = mc.Configuration()\n",
    "cfg.add_model_parameter('beta', 0.01) # prob of infecteded\n",
    "cfg.add_model_parameter(\"percentage_infected\", 0.5) # initially infected  %\n",
    "model.set_initial_status(cfg)\n",
    "\n",
    "# Simulation execution\n",
    "iterations = model.iteration_bunch(40)"
   ]
  },
  {
   "cell_type": "code",
   "execution_count": null,
   "metadata": {
    "scrolled": true
   },
   "outputs": [],
   "source": [
    "infected = []\n",
    "for it in iterations :\n",
    "    for node, i in it['status'].items() :\n",
    "        if i == 1:\n",
    "            infected.append(node)\n",
    "            \n",
    "    print('Infected count', len(infected))\n",
    "    #kawai_draw(G)    \n",
    "    print(infected_average_by_radius(G, radius_split, 10, infected))"
   ]
  },
  {
   "cell_type": "code",
   "execution_count": null,
   "metadata": {
    "scrolled": true
   },
   "outputs": [],
   "source": [
    "'''\n",
    "node = 188\n",
    "for i in range(0, len(radius_split[node])) :\n",
    "    \n",
    "    print(\"Iteração\", i+1)\n",
    "    temp = nx.ego_graph(G, node, radius=i+1)\n",
    "    temp.remove_nodes_from([node])\n",
    "    print(\"Percentage\", infected_percentage(temp, infected))\n",
    "    kawai_draw(temp, infected)\n",
    "    for x in temp :\n",
    "        if x in infected :\n",
    "            print(x)\n",
    "'''"
   ]
  },
  {
   "cell_type": "code",
   "execution_count": null,
   "metadata": {},
   "outputs": [],
   "source": []
  }
 ],
 "metadata": {
  "kernelspec": {
   "display_name": "Python 3",
   "language": "python",
   "name": "python3"
  },
  "language_info": {
   "codemirror_mode": {
    "name": "ipython",
    "version": 3
   },
   "file_extension": ".py",
   "mimetype": "text/x-python",
   "name": "python",
   "nbconvert_exporter": "python",
   "pygments_lexer": "ipython3",
   "version": "3.7.0"
  }
 },
 "nbformat": 4,
 "nbformat_minor": 2
}
