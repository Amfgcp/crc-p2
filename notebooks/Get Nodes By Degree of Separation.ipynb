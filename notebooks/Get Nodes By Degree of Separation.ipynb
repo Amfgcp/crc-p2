{
 "cells": [
  {
   "cell_type": "code",
   "execution_count": null,
   "metadata": {},
   "outputs": [],
   "source": [
    "import networkx as nx\n",
    "import random\n",
    "import copy\n",
    "import time\n",
    "import matplotlib.pyplot as plt\n",
    "%matplotlib inline\n",
    "\n",
    "def kawai_draw(G) :\n",
    "    colors = []\n",
    "    for node in G :\n",
    "        infected = G.node[node]['infected']\n",
    "        if infected == 0 :\n",
    "            colors.append('red')\n",
    "        else :\n",
    "            colors.append('green')\n",
    "    nx.draw(G, layout=nx.kamada_kawai_layout(G), node_color=colors, node_size = 30, alpha = 0.7)\n",
    "    plt.show()\n",
    "    \n",
    "G = nx.scale_free_graph(1000)\n",
    "\n",
    "for node in G :\n",
    "    infected = random.getrandbits(1)\n",
    "    G.node[node]['infected'] = infected"
   ]
  },
  {
   "cell_type": "code",
   "execution_count": null,
   "metadata": {},
   "outputs": [],
   "source": [
    "kawai_draw(G)"
   ]
  },
  {
   "cell_type": "code",
   "execution_count": null,
   "metadata": {},
   "outputs": [],
   "source": [
    "def generate_egos(G, node, max_radius):\n",
    "    resulting_G = []\n",
    "    \n",
    "    G_ego = nx.ego_graph(G, node, radius=1)\n",
    "    resulting_G.append(G_ego)\n",
    "    G_ego_previous = G_ego\n",
    "    \n",
    "    for i in range(2, max_radius+1) :\n",
    "        G_ego = nx.ego_graph(G, node, radius=i)\n",
    "        G_ego_toremove = copy.deepcopy(G_ego)\n",
    "        G_ego_toremove.remove_nodes_from(G_ego_previous)\n",
    "        resulting_G.append(G_ego_toremove)\n",
    "        G_ego_previous = G_ego\n",
    "        \n",
    "    resulting_G[0].remove_node(node)\n",
    "    return resulting_G\n",
    "\n",
    "def generate_egos_allnodes(G, max_radius) :\n",
    "    result = []\n",
    "    \n",
    "    for node in G :\n",
    "        result.append(generate_egos(G, node, max_radius))\n",
    "        \n",
    "    return result\n",
    "\n",
    "start_time = time.time()\n",
    "cenas = generate_egos_allnodes(G, 5)\n",
    "print(\"--- %s seconds ---\" % (time.time() - start_time))"
   ]
  },
  {
   "cell_type": "code",
   "execution_count": null,
   "metadata": {
    "scrolled": false
   },
   "outputs": [],
   "source": [
    "node = 0\n",
    "for i in range(0, len(cenas[node])) :\n",
    "    print(\"Iteração\", i+1)\n",
    "    kawai_draw(nx.ego_graph(G, node, radius=i+1))\n",
    "    for x in cenas[node][i] :\n",
    "        print(x)"
   ]
  },
  {
   "cell_type": "code",
   "execution_count": null,
   "metadata": {},
   "outputs": [],
   "source": []
  }
 ],
 "metadata": {
  "kernelspec": {
   "display_name": "Python 3",
   "language": "python",
   "name": "python3"
  },
  "language_info": {
   "codemirror_mode": {
    "name": "ipython",
    "version": 3
   },
   "file_extension": ".py",
   "mimetype": "text/x-python",
   "name": "python",
   "nbconvert_exporter": "python",
   "pygments_lexer": "ipython3",
   "version": "3.7.0"
  }
 },
 "nbformat": 4,
 "nbformat_minor": 2
}
