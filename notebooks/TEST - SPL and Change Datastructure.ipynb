{
 "cells": [
  {
   "cell_type": "code",
   "execution_count": null,
   "metadata": {},
   "outputs": [],
   "source": [
    "''' Small Graph Test '''\n",
    "import networkx as nx\n",
    "# print(dict(nx.bfs_successors(G, source=0)))\n",
    "# print(dict(nx.bfs_successors(G, source=1)))\n",
    "G = nx.Graph()\n",
    "nx.add_path(G, [0, 1, 2, 3, 4])\n",
    "nx.add_path(G, [1, 3])\n",
    "\n",
    "spl = nx.all_pairs_shortest_path_length(G)\n",
    "# spl_dict = dict(nx.all_pairs_shortest_path_length(G))\n",
    "print(spl)\n",
    "for tup in spl:\n",
    "    print(tup)\n",
    "    print(tup[1].items())\n",
    "\n",
    "print('\\n', spl_dict)\n",
    "\n",
    "''' Print distances to each node from a source node ''' \n",
    "def print_distances(all_pairs_shortest_path_len):\n",
    "    for source_node, node_info in all_pairs_shortest_path_len.items():\n",
    "        print(\"\\nSOURCE NODE: \", source_node)\n",
    "\n",
    "        for target_node in node_info:\n",
    "            print('node', target_node, 'is at distance:', node_info[target_node])\n",
    "        \n",
    "print_distances(spl_dict)"
   ]
  },
  {
   "cell_type": "code",
   "execution_count": null,
   "metadata": {},
   "outputs": [],
   "source": [
    "# spl = {0: {0: 0, 1: 1, 2: 2, 3: 2, 4: 3}, 1: {1: 0, 0: 1, 2: 1, 3: 1, 4: 2}, 2: {2: 0, 1: 1, 3: 1, 0: 2, 4: 2}, 3: {3: 0, 2: 1, 4: 1, 1: 1, 0: 2}, 4: {4: 0, 3: 1, 2: 2, 1: 2, 0: 3}}\n",
    "# bfs = [{0: [1], 1: [2, 3], 2: [5]}, {0: [0, 2, 3], 1: [...]}, ...]\n",
    "import networkx as nx\n",
    "import copy\n",
    "spl = nx.all_pairs_shortest_path_length(G)\n",
    "\n",
    "def change_ds(spl_gen, num_nodes, max_radius):\n",
    "    result = []\n",
    "    for n in range(num_nodes):\n",
    "        di_tmp = {}\n",
    "        for entry in spl_gen:  \n",
    "            print(\"entry:\", entry)\n",
    "            for radius in range(1, max_radius + 1):\n",
    "                li_tmp = []\n",
    "                for node, dist in entry[1].items():\n",
    "                    if dist == radius:\n",
    "                        li_tmp.append(node)\n",
    "                if li_tmp != []:\n",
    "                    di_tmp[radius - 1] = li_tmp\n",
    "            print('\\t', di_tmp)\n",
    "            result.append(copy.copy(di_tmp))\n",
    "            \n",
    "    return result\n",
    "\n",
    "change_ds(spl, 5, 4)"
   ]
  }
 ],
 "metadata": {
  "kernelspec": {
   "display_name": "Python 3",
   "language": "python",
   "name": "python3"
  },
  "language_info": {
   "codemirror_mode": {
    "name": "ipython",
    "version": 3
   },
   "file_extension": ".py",
   "mimetype": "text/x-python",
   "name": "python",
   "nbconvert_exporter": "python",
   "pygments_lexer": "ipython3",
   "version": "3.6.5"
  }
 },
 "nbformat": 4,
 "nbformat_minor": 2
}
