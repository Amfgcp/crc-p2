{
 "cells": [
  {
   "cell_type": "code",
   "execution_count": 1,
   "metadata": {},
   "outputs": [],
   "source": [
    "import networkx as nx\n",
    "import random\n",
    "import copy\n",
    "import time\n",
    "import matplotlib.pyplot as plt\n",
    "import sys\n",
    "from collections import defaultdict\n",
    "%matplotlib inline\n",
    "\n",
    "def progressBar(value, endvalue, bar_length=20):\n",
    "\n",
    "        percent = float(value) / endvalue\n",
    "        arrow = '-' * int(round(percent * bar_length)-1) + '>'\n",
    "        spaces = ' ' * (bar_length - len(arrow))\n",
    "\n",
    "        sys.stdout.write(\"\\rCalculating: [{0}] {1}%\".format(arrow + spaces, int(round(percent * 100))))\n",
    "        sys.stdout.flush()\n",
    "\n",
    "        \n",
    "def kawai_draw(G, infected=[]) :\n",
    "    colors = []\n",
    "    for node in G :\n",
    "        if node in infected :\n",
    "            colors.append('red')\n",
    "        else :\n",
    "            colors.append('green')\n",
    "    nx.draw(G, layout=nx.kamada_kawai_layout(G), node_color=colors, node_size = 30, alpha = 0.7)\n",
    "    plt.show()\n",
    "    \n",
    "num_nodes = 2000\n",
    "    \n",
    "G = nx.scale_free_graph(num_nodes).to_undirected()\n",
    "\n",
    "#G = nx.watts_strogatz_graph(2000, 10, 1)"
   ]
  },
  {
   "cell_type": "code",
   "execution_count": 2,
   "metadata": {},
   "outputs": [],
   "source": [
    "#kawai_draw(G)"
   ]
  },
  {
   "cell_type": "code",
   "execution_count": 3,
   "metadata": {},
   "outputs": [
    {
     "name": "stdout",
     "output_type": "stream",
     "text": [
      "Calculating: [------------------------------------------------->] 100%\n",
      " 19.12777805328369\n"
     ]
    }
   ],
   "source": [
    "import networkx as nx\n",
    "import copy\n",
    "import time\n",
    "start = time.time()\n",
    "\n",
    "spl = nx.all_pairs_shortest_path_length(G)\n",
    "\n",
    "def change_ds(spl_gen, num_nodes, max_radius):\n",
    "    ''' Transforms 'spl_gen' into the accepted datastructure\n",
    "        by the 'infected_average_by_separation_degree' method\n",
    "    '''\n",
    "    result = []\n",
    "    for n in range(num_nodes):\n",
    "        progressBar(n, num_nodes, 50)\n",
    "        di_tmp = {}\n",
    "        for entry in spl_gen:  \n",
    "            for radius in range(1, max_radius + 1):\n",
    "                li_tmp = []\n",
    "                for node, dist in entry[1].items():\n",
    "                    if dist == radius:\n",
    "                        li_tmp.append(node)\n",
    "                if li_tmp != []:\n",
    "                    di_tmp[radius - 1] = li_tmp\n",
    "            result.append(copy.copy(di_tmp))\n",
    "            \n",
    "    return result\n",
    "\n",
    "separation_degrees = change_ds(spl, num_nodes, 6)\n",
    "print('\\n', time.time() - start)"
   ]
  },
  {
   "cell_type": "code",
   "execution_count": 4,
   "metadata": {
    "scrolled": true
   },
   "outputs": [],
   "source": [
    "def infected_percentage(nodes, infected) :\n",
    "    count = 0\n",
    "    for node in nodes :\n",
    "        if node in infected :\n",
    "            count += 1\n",
    "    \n",
    "    return count / len(nodes)\n",
    "\n",
    "def infected_average_by_separation_degree(G, separation_degrees, infected) :\n",
    "    node_count = {}\n",
    "    percentage_sum = {}\n",
    "    \n",
    "    for node in range(0, len(separation_degrees)) :\n",
    "        if node in infected :\n",
    "            for degree in separation_degrees[node] :\n",
    "                if degree not in percentage_sum.keys() :\n",
    "                    percentage_sum[degree] = 0\n",
    "                    node_count[degree] = 0\n",
    "                percentage_sum[degree] += infected_percentage(separation_degrees[node][degree], infected)\n",
    "                node_count[degree] += 1\n",
    "        \n",
    "    average_by_separation_degree = {}\n",
    "    \n",
    "    for separation_degree in percentage_sum :\n",
    "        average_by_separation_degree[separation_degree] = percentage_sum[separation_degree] / node_count[separation_degree]\n",
    "            \n",
    "    return average_by_separation_degree\n"
   ]
  },
  {
   "cell_type": "code",
   "execution_count": 5,
   "metadata": {
    "scrolled": false
   },
   "outputs": [],
   "source": [
    "import networkx as nx\n",
    "import ndlib.models.ModelConfig as mc\n",
    "import ndlib.models.epidemics.SIModel as si\n",
    "import ndlib.models.opinions.VoterModel as vt\n",
    "\n",
    "# Model selection\n",
    "#model = si.SIModel(G)\n",
    "model = vt.VoterModel(G)\n",
    "\n",
    "# Model Configuration\n",
    "cfg = mc.Configuration()\n",
    "cfg.add_model_parameter(\"percentage_infected\", 0.5) # initially infected  %\n",
    "model.set_initial_status(cfg)\n",
    "\n",
    "# Simulation execution\n",
    "iterations = model.iteration_bunch(1000)"
   ]
  },
  {
   "cell_type": "code",
   "execution_count": 6,
   "metadata": {
    "scrolled": true
   },
   "outputs": [
    {
     "name": "stdout",
     "output_type": "stream",
     "text": [
      "Iteration 1\n",
      "Infected count 1000\n",
      "Separations:\n",
      "{0: 0.6348341739585425, 1: 0.5196967271590791, 2: 0.5028615107899748, 3: 0.4984038678011384, 4: 0.49020139812111263, 5: 0.33358140665809605}\n",
      "Iteration 51\n",
      "Infected count 1028\n",
      "Separations:\n",
      "{0: 0.6454819089386262, 1: 0.5290174652505227, 2: 0.5098876769763812, 3: 0.5059490020226932, 4: 0.4950188929068754, 5: 0.3336182790743591}\n",
      "Iteration 101\n",
      "Infected count 1064\n",
      "Separations:\n",
      "{0: 0.6499667814033631, 1: 0.5340545730169435, 2: 0.5185157217269988, 3: 0.5110322281640247, 4: 0.4966918380291558, 5: 0.33434740104634925}\n",
      "Iteration 151\n",
      "Infected count 1095\n",
      "Separations:\n",
      "{0: 0.6550624915471591, 1: 0.539591739421546, 2: 0.525536845156023, 3: 0.5150493636871908, 4: 0.4981298152047041, 5: 0.333663501504946}\n",
      "Iteration 201\n",
      "Infected count 1127\n",
      "Separations:\n",
      "{0: 0.6630416154804633, 1: 0.5476866792548528, 2: 0.5336268664054631, 3: 0.5210098837331442, 4: 0.5006773241889353, 5: 0.3346096505251183}\n",
      "Iteration 251\n",
      "Infected count 1157\n",
      "Separations:\n",
      "{0: 0.668874365407183, 1: 0.5568526692269501, 2: 0.5409687078907867, 3: 0.5284261434542917, 4: 0.5039959243557006, 5: 0.3350292419285927}\n",
      "Iteration 301\n",
      "Infected count 1189\n",
      "Separations:\n",
      "{0: 0.6736933966417732, 1: 0.5657163535556812, 2: 0.5492269171346933, 3: 0.5324823101602333, 4: 0.504491818253097, 5: 0.33321119209906014}\n",
      "Iteration 351\n",
      "Infected count 1216\n",
      "Separations:\n",
      "{0: 0.6780795391800963, 1: 0.570210438656899, 2: 0.5522614299069007, 3: 0.538793664347076, 4: 0.5075789297651391, 5: 0.3344030948012038}\n",
      "Iteration 401\n",
      "Infected count 1244\n",
      "Separations:\n",
      "{0: 0.6844265797329645, 1: 0.5743546544320824, 2: 0.5576052670566249, 3: 0.542582933279705, 4: 0.5085942748925615, 5: 0.3341947109445787}\n",
      "Iteration 451\n",
      "Infected count 1270\n",
      "Separations:\n",
      "{0: 0.6867602138503355, 1: 0.5772840415459048, 2: 0.5608791608921766, 3: 0.5473820740095379, 4: 0.5106673993508491, 5: 0.3343629146136766}\n",
      "Iteration 501\n",
      "Infected count 1300\n",
      "Separations:\n",
      "{0: 0.690325200726808, 1: 0.5808547528000033, 2: 0.5653172428710103, 3: 0.5495168918032464, 4: 0.510928314089774, 5: 0.3337743296352156}\n",
      "Iteration 551\n",
      "Infected count 1328\n",
      "Separations:\n",
      "{0: 0.6955199527097583, 1: 0.5852908516340875, 2: 0.5719344171865739, 3: 0.5559231847550592, 4: 0.5188053524263203, 5: 0.3335784545143141}\n",
      "Iteration 601\n",
      "Infected count 1355\n",
      "Separations:\n",
      "{0: 0.6996862340950092, 1: 0.5946320348625282, 2: 0.5774520393764704, 3: 0.5587841488879117, 4: 0.5193819399891887, 5: 0.33309735911893307}\n",
      "Iteration 651\n",
      "Infected count 1383\n",
      "Separations:\n",
      "{0: 0.7092578017165225, 1: 0.6012394899997995, 2: 0.5826468325129442, 3: 0.5627420627518919, 4: 0.5285270847498191, 5: 0.33478983503405924}\n",
      "Iteration 701\n",
      "Infected count 1413\n",
      "Separations:\n",
      "{0: 0.7111737305025471, 1: 0.6037156086890682, 2: 0.5863358899559648, 3: 0.5649570322252548, 4: 0.5292829739020876, 5: 0.33534736414383826}\n",
      "Iteration 751\n",
      "Infected count 1441\n",
      "Separations:\n",
      "{0: 0.714456372800845, 1: 0.609043103546347, 2: 0.5909371570747817, 3: 0.5667214732507707, 4: 0.5295176439545447, 5: 0.334632648350598}\n",
      "Iteration 801\n",
      "Infected count 1461\n",
      "Separations:\n",
      "{0: 0.7169076001596887, 1: 0.612707853390822, 2: 0.5944010006022657, 3: 0.5740397457843326, 4: 0.5333836575983801, 5: 0.3370709360935352}\n",
      "Iteration 851\n",
      "Infected count 1482\n",
      "Separations:\n",
      "{0: 0.7194502675796298, 1: 0.615908330979749, 2: 0.5983661043526973, 3: 0.5786295396602692, 4: 0.5345633366630025, 5: 0.33766778184268276}\n",
      "Iteration 901\n",
      "Infected count 1510\n",
      "Separations:\n",
      "{0: 0.7252543930983327, 1: 0.6229753387202996, 2: 0.6046485363378654, 3: 0.5845333366191977, 4: 0.5369724811947078, 5: 0.3378816137613238}\n",
      "Iteration 951\n",
      "Infected count 1538\n",
      "Separations:\n",
      "{0: 0.7274677235985795, 1: 0.6285926220756403, 2: 0.6085093581086229, 3: 0.5857221266760008, 4: 0.537315237233623, 5: 0.3374174373805051}\n"
     ]
    }
   ],
   "source": [
    "infected = []\n",
    "infected_count = []\n",
    "avg_traits = []\n",
    "for it in range(0, len(iterations)) :\n",
    "    for node, i in iterations[it]['status'].items() :\n",
    "        if i == 1:\n",
    "            infected.append(node)\n",
    "            \n",
    "    if it % 50 == 0 :\n",
    "        percentages = infected_average_by_separation_degree(G, separation_degrees, infected)\n",
    "        \n",
    "        print('Iteration', it+1)\n",
    "        print('Infected count', len(infected))\n",
    "        print('Separations:')\n",
    "        print(percentages)\n",
    "\n",
    "        avg_traits.append(percentages) # needed for propensity\n",
    "        infected_count.append(len(infected)) # needed for the random graph generation"
   ]
  },
  {
   "cell_type": "code",
   "execution_count": 7,
   "metadata": {
    "scrolled": true
   },
   "outputs": [
    {
     "name": "stdout",
     "output_type": "stream",
     "text": [
      "[1000, 1028, 1064, 1095, 1127, 1157, 1189, 1216, 1244, 1270, 1300, 1328, 1355, 1383, 1413, 1441, 1461, 1482, 1510, 1538]\n",
      "num_infects:  1000\n",
      "new infecteds:  1000\n",
      "{0: 0.42549769497035234, 1: 0.5038538165378464, 2: 0.49961323389293444, 3: 0.490099291697853, 4: 0.4877420654632084, 5: 0.7683192935866698}\n",
      "num_infects:  1028\n",
      "new infecteds:  28\n",
      "{0: 0.42624923609232906, 1: 0.5188601598569273, 2: 0.5126813712274795, 3: 0.504253781569925, 4: 0.4925933571330284, 5: 0.7702027346050719}\n",
      "num_infects:  1064\n",
      "new infecteds:  36\n",
      "{0: 0.43808280543019706, 1: 0.5322382444620035, 2: 0.5286417706229506, 3: 0.5237772037475108, 4: 0.5058363085543246, 5: 0.7747562284038845}\n",
      "num_infects:  1095\n",
      "new infecteds:  31\n",
      "{0: 0.4635665267779598, 1: 0.551353491908208, 2: 0.5447911195564316, 3: 0.5386171454678716, 4: 0.5102560761671832, 5: 0.7752526010023412}\n",
      "num_infects:  1127\n",
      "new infecteds:  32\n",
      "{0: 0.47228413409062, 1: 0.5639536753011406, 2: 0.5592811207920791, 3: 0.5577393808938722, 4: 0.5289600124697643, 5: 0.7787500778165981}\n",
      "num_infects:  1157\n",
      "new infecteds:  30\n",
      "{0: 0.49018200745445106, 1: 0.5843430816031555, 2: 0.5742614080879797, 3: 0.5738619893211838, 4: 0.5533209948596227, 5: 0.7899639301623104}\n",
      "num_infects:  1189\n",
      "new infecteds:  32\n",
      "{0: 0.5011037020172506, 1: 0.6019166665309581, 2: 0.591235874608242, 3: 0.5838881658385601, 4: 0.556096943967643, 5: 0.7922743658317184}\n",
      "num_infects:  1216\n",
      "new infecteds:  27\n",
      "{0: 0.5096219037143136, 1: 0.6108190485725962, 2: 0.6054945391065022, 3: 0.5957391843414808, 4: 0.5937901536408566, 5: 0.8206199916759073}\n",
      "num_infects:  1244\n",
      "new infecteds:  28\n",
      "{0: 0.5173122117067406, 1: 0.6293601320284784, 2: 0.6203278355528865, 3: 0.6062910969575923, 4: 0.606310580630407, 5: 0.8280176518966262}\n",
      "num_infects:  1270\n",
      "new infecteds:  26\n",
      "{0: 0.5204084098398829, 1: 0.6392056716558415, 2: 0.6321564742973876, 3: 0.6203433090298018, 4: 0.6190363897263845, 5: 0.8319763098278551}\n",
      "num_infects:  1300\n",
      "new infecteds:  30\n",
      "{0: 0.5298073077207665, 1: 0.6511925531857335, 2: 0.6466689638535433, 3: 0.6372678535987462, 4: 0.6332125573692823, 5: 0.8360213464142102}\n",
      "num_infects:  1328\n",
      "new infecteds:  28\n",
      "{0: 0.6784688164289288, 1: 0.6838862767207236, 2: 0.664445827457755, 3: 0.6479995409892426, 4: 0.6372907973973649, 5: 0.8372305273973097}\n",
      "num_infects:  1355\n",
      "new infecteds:  27\n",
      "{0: 0.6912998531753516, 1: 0.6931225471468537, 2: 0.6778967624564042, 3: 0.6622223074072129, 4: 0.6535342579883784, 5: 0.8450422362288792}\n",
      "num_infects:  1383\n",
      "new infecteds:  28\n",
      "{0: 0.6975233368896879, 1: 0.7076683466366342, 2: 0.6912042161789714, 3: 0.675971905057517, 4: 0.6659308856602338, 5: 0.8490170555864693}\n",
      "num_infects:  1413\n",
      "new infecteds:  30\n",
      "{0: 0.7100966282159665, 1: 0.7191826659045234, 2: 0.7050973130668147, 3: 0.6948907426088651, 4: 0.6757404045973799, 5: 0.850283078286019}\n",
      "num_infects:  1441\n",
      "new infecteds:  28\n",
      "{0: 0.7142597171434714, 1: 0.7311605682991421, 2: 0.7185934447585746, 3: 0.7084430639914784, 4: 0.7012719482513788, 5: 0.8620195360627446}\n",
      "num_infects:  1461\n",
      "new infecteds:  20\n",
      "{0: 0.7905322305579048, 1: 0.7524271306771217, 2: 0.7317184087120667, 3: 0.7208167830178038, 4: 0.7068891184756139, 5: 0.8629402475350285}\n",
      "num_infects:  1482\n",
      "new infecteds:  21\n",
      "{0: 0.7956848099157885, 1: 0.7632499622364598, 2: 0.7433645654203241, 3: 0.7290258054587131, 4: 0.7089832407453464, 5: 0.8633037213134223}\n",
      "num_infects:  1510\n",
      "new infecteds:  28\n",
      "{0: 0.8010583469463938, 1: 0.7737490354858341, 2: 0.7567170810420085, 3: 0.7442695122238044, 4: 0.7331851228840957, 5: 0.8823676304980242}\n",
      "num_infects:  1538\n",
      "new infecteds:  28\n",
      "{0: 0.8116625061472127, 1: 0.7863920487082747, 2: 0.7693561619373926, 3: 0.7611036529432216, 4: 0.738560538123333, 5: 0.8825515056270149}\n"
     ]
    }
   ],
   "source": [
    "''' Start Random distribution of infecteds section '''\n",
    "import random\n",
    "from collections import defaultdict\n",
    "from copy import deepcopy # only used for testing\n",
    "\n",
    "def simulate_random_infecteds(G_rand, num_nodes, radius_split_rand, infected_count):\n",
    "    \n",
    "    '''\n",
    "    Randomly picks the same number of infecteds as in the \n",
    "    non-random model (for a each iteration of the spreading)\n",
    "    Returns a list of @infected_average_by_radius lists\n",
    "    '''\n",
    "    print(infected_count)\n",
    "    random_infected = []\n",
    "    random_not_infected = list(range(0, num_nodes))\n",
    "    prev_num_infects = 0\n",
    "    new_num_infects = 0\n",
    "    avg_trait_sharing_by_radius = []\n",
    "    for num_infects in infected_count:\n",
    "        print(\"num_infects: \", num_infects)\n",
    "        new_num_infects = num_infects - prev_num_infects\n",
    "        print(\"new infecteds: \", new_num_infects)\n",
    "        # prev_random_infected = deepcopy(random_infected) # for testing purposes\n",
    "\n",
    "        for _ in range(new_num_infects):\n",
    "            if len(random_not_infected) == 0 :\n",
    "                break\n",
    "            new_inf = random.choice(random_not_infected)\n",
    "            random_infected.append(new_inf)\n",
    "            random_not_infected.remove(new_inf)\n",
    "            \n",
    "        if len(random_not_infected) == 0 :\n",
    "            break   \n",
    "            \n",
    "        prev_num_infects = num_infects\n",
    "        percentage = infected_average_by_separation_degree(G_rand, separation_degrees, random_infected)\n",
    "        avg_trait_sharing_by_radius.append(percentage)\n",
    "        print(percentage)    \n",
    "        \n",
    "        # print(\"¨¨¨¨¨¨¨¨¨Infected list: \", len(random_infected), \" nodes\\n\", random_infected)\n",
    "        # print(\"¨¨¨¨¨¨¨¨¨NOT Infected list:\", len(random_not_infected), \" nodes\\n\", random_not_infected) \n",
    "        # print_list_differences(prev_random_infected, random_infected)\n",
    "    return (avg_trait_sharing_by_radius, random_infected)\n",
    "\n",
    "avg_random_trait_sharing_by_radius, final_random_infected = simulate_random_infecteds(G, num_nodes, separation_degrees, infected_count)"
   ]
  },
  {
   "cell_type": "code",
   "execution_count": 16,
   "metadata": {
    "scrolled": false
   },
   "outputs": [
    {
     "name": "stdout",
     "output_type": "stream",
     "text": [
      "0.31965625625003824\n",
      "2\n",
      "1\n",
      "2\n",
      "3\n",
      "4\n",
      "5\n",
      "6\n",
      "[0.5143297730129177, 0.019576190618289413, -0.005449182295056976, 0.0033618398408246097, 0.004924012349585949, -0.566843554190411]\n",
      "[1.0, 0.03806155436737228, -0.010594724593009544, 0.006536350834078926, 0.009573648285498493, -1.1021013830676576]\n"
     ]
    }
   ],
   "source": [
    "def propensity_by_radius(iteration, radius, avg_traits, rand_avg_traits):\n",
    "    return (avg_traits[iteration-1][radius-1] / rand_avg_traits[iteration-1][radius-1]) - 1\n",
    "\n",
    "def all_propensities(iteration, max_radius, avg_traits, rand_avg_traits):\n",
    "    all_propensities = []\n",
    "    print(iteration)\n",
    "    for r in range(1, max_radius + 1):\n",
    "        print(r)\n",
    "        \n",
    "        all_propensities.append(propensity_by_radius(iteration, r, avg_traits, rand_avg_traits))\n",
    "    return all_propensities\n",
    "\n",
    "prop_one = propensity_by_radius(10, 1, avg_traits, avg_random_trait_sharing_by_radius)\n",
    "prop_two = propensity_by_radius(10, 2, avg_traits, avg_random_trait_sharing_by_radius)\n",
    "print(prop_one)\n",
    "\n",
    "all_props = all_propensities(2, 6, avg_traits, avg_random_trait_sharing_by_radius)\n",
    "print(all_props)\n",
    "\n",
    "def normalized_propensities(max_radius, all_propensities):\n",
    "    normalized_propensities = []\n",
    "    for r in range(max_radius):\n",
    "        normalized_propensities.append(all_propensities[r] / all_propensities[0])\n",
    "    \n",
    "    return normalized_propensities\n",
    "        \n",
    "print(normalized_propensities(6, all_props))"
   ]
  },
  {
   "cell_type": "code",
   "execution_count": 9,
   "metadata": {},
   "outputs": [
    {
     "name": "stdout",
     "output_type": "stream",
     "text": [
      "26.463\n"
     ]
    }
   ],
   "source": [
    "#Do not delete, create list for each degree and add to report\n",
    "avg = 0\n",
    "for node in separation_degrees :\n",
    "    if len(node) > 5 :\n",
    "        avg += len(node[5])\n",
    "\n",
    "print(avg / len(separation_degrees))"
   ]
  },
  {
   "cell_type": "code",
   "execution_count": 10,
   "metadata": {},
   "outputs": [
    {
     "name": "stdout",
     "output_type": "stream",
     "text": [
      "4.247\n"
     ]
    }
   ],
   "source": [
    "print(2 * G.number_of_edges() / G.number_of_nodes())"
   ]
  },
  {
   "cell_type": "code",
   "execution_count": 11,
   "metadata": {},
   "outputs": [
    {
     "data": {
      "text/plain": [
       "\"import pickle\\n\\nwith open('2000_nodes_scale_free.graph', 'wb') as f:  # Python 3: open(..., 'wb')\\n    pickle.dump(G, f)\""
      ]
     },
     "execution_count": 11,
     "metadata": {},
     "output_type": "execute_result"
    }
   ],
   "source": [
    "'''import pickle\n",
    "\n",
    "with open('2000_nodes_scale_free.graph', 'wb') as f:  # Python 3: open(..., 'wb')\n",
    "    pickle.dump(G, f)'''"
   ]
  },
  {
   "cell_type": "code",
   "execution_count": 12,
   "metadata": {},
   "outputs": [
    {
     "data": {
      "text/plain": [
       "\"import pickle\\n\\nwith open('2000_nodes_scale_free.graph', 'rb') as f:  # Python 3: open(..., 'rb')\\n    Gtest = pickle.load(f)\\n\\nprint(2 * Gtest.number_of_edges() / Gtest.number_of_nodes())\""
      ]
     },
     "execution_count": 12,
     "metadata": {},
     "output_type": "execute_result"
    }
   ],
   "source": [
    "'''import pickle\n",
    "\n",
    "with open('2000_nodes_scale_free.graph', 'rb') as f:  # Python 3: open(..., 'rb')\n",
    "    Gtest = pickle.load(f)\n",
    "\n",
    "print(2 * Gtest.number_of_edges() / Gtest.number_of_nodes())'''"
   ]
  },
  {
   "cell_type": "code",
   "execution_count": null,
   "metadata": {},
   "outputs": [],
   "source": []
  }
 ],
 "metadata": {
  "kernelspec": {
   "display_name": "Python 3",
   "language": "python",
   "name": "python3"
  },
  "language_info": {
   "codemirror_mode": {
    "name": "ipython",
    "version": 3
   },
   "file_extension": ".py",
   "mimetype": "text/x-python",
   "name": "python",
   "nbconvert_exporter": "python",
   "pygments_lexer": "ipython3",
   "version": "3.7.0"
  }
 },
 "nbformat": 4,
 "nbformat_minor": 2
}
