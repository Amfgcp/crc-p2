{
 "cells": [
  {
   "cell_type": "code",
   "execution_count": 1,
   "metadata": {},
   "outputs": [],
   "source": [
    "import networkx as nx\n",
    "import random\n",
    "import copy\n",
    "import time\n",
    "import matplotlib.pyplot as plt\n",
    "import sys\n",
    "from collections import defaultdict\n",
    "%matplotlib inline\n",
    "\n",
    "def progressBar(value, endvalue, bar_length=20):\n",
    "\n",
    "        percent = float(value) / endvalue\n",
    "        arrow = '-' * int(round(percent * bar_length)-1) + '>'\n",
    "        spaces = ' ' * (bar_length - len(arrow))\n",
    "\n",
    "        sys.stdout.write(\"\\rCalculating: [{0}] {1}%\".format(arrow + spaces, int(round(percent * 100))))\n",
    "        sys.stdout.flush()\n",
    "\n",
    "        \n",
    "def kawai_draw(G, infected=[]) :\n",
    "    colors = []\n",
    "    for node in G :\n",
    "        if node in infected :\n",
    "            colors.append('red')\n",
    "        else :\n",
    "            colors.append('green')\n",
    "    nx.draw(G, layout=nx.kamada_kawai_layout(G), node_color=colors, node_size = 30, alpha = 0.7)\n",
    "    plt.show()\n",
    "    \n",
    "num_nodes = 2000\n",
    "    \n",
    "G = nx.scale_free_graph(num_nodes).to_undirected()\n",
    "\n",
    "#G = nx.watts_strogatz_graph(2000, 10, 1)"
   ]
  },
  {
   "cell_type": "code",
   "execution_count": 2,
   "metadata": {},
   "outputs": [],
   "source": [
    "#kawai_draw(G)"
   ]
  },
  {
   "cell_type": "code",
   "execution_count": 3,
   "metadata": {},
   "outputs": [
    {
     "name": "stdout",
     "output_type": "stream",
     "text": [
      "Calculating: [------------------------------------------------->] 100%\n",
      " 17.120984315872192\n"
     ]
    }
   ],
   "source": [
    "import networkx as nx\n",
    "import copy\n",
    "import time\n",
    "start = time.time()\n",
    "\n",
    "spl = nx.all_pairs_shortest_path_length(G)\n",
    "\n",
    "def change_ds(spl_gen, num_nodes, max_radius):\n",
    "    ''' Transforms 'spl_gen' into the accepted datastructure\n",
    "        by the 'infected_average_by_separation_degree' method\n",
    "    '''\n",
    "    result = []\n",
    "    for n in range(num_nodes):\n",
    "        progressBar(n, num_nodes, 50)\n",
    "        di_tmp = {}\n",
    "        for entry in spl_gen:  \n",
    "            for radius in range(1, max_radius + 1):\n",
    "                li_tmp = []\n",
    "                for node, dist in entry[1].items():\n",
    "                    if dist == radius:\n",
    "                        li_tmp.append(node)\n",
    "                if li_tmp != []:\n",
    "                    di_tmp[radius - 1] = li_tmp\n",
    "            result.append(copy.copy(di_tmp))\n",
    "            \n",
    "    return result\n",
    "\n",
    "separation_degrees = change_ds(spl, num_nodes, 6)\n",
    "print('\\n', time.time() - start)"
   ]
  },
  {
   "cell_type": "code",
   "execution_count": 4,
   "metadata": {
    "scrolled": true
   },
   "outputs": [],
   "source": [
    "def infected_percentage(nodes, infected) :\n",
    "    count = 0\n",
    "    for node in nodes :\n",
    "        if node in infected :\n",
    "            count += 1\n",
    "    \n",
    "    return count / len(nodes)\n",
    "\n",
    "def infected_average_by_separation_degree(G, separation_degrees, infected) :\n",
    "    node_count = {}\n",
    "    percentage_sum = {}\n",
    "    \n",
    "    for node in range(0, len(separation_degrees)) :\n",
    "        if node in infected :\n",
    "            for degree in separation_degrees[node] :\n",
    "                if degree not in percentage_sum.keys() :\n",
    "                    percentage_sum[degree] = 0\n",
    "                    node_count[degree] = 0\n",
    "                percentage_sum[degree] += infected_percentage(separation_degrees[node][degree], infected)\n",
    "                node_count[degree] += 1\n",
    "        \n",
    "    average_by_separation_degree = {}\n",
    "    \n",
    "    for separation_degree in percentage_sum :\n",
    "        average_by_separation_degree[separation_degree] = percentage_sum[separation_degree] / node_count[separation_degree]\n",
    "            \n",
    "    return average_by_separation_degree\n"
   ]
  },
  {
   "cell_type": "code",
   "execution_count": 7,
   "metadata": {
    "scrolled": false
   },
   "outputs": [],
   "source": [
    "import networkx as nx\n",
    "import ndlib.models.ModelConfig as mc\n",
    "import ndlib.models.epidemics.SIModel as si\n",
    "import ndlib.models.opinions.VoterModel as vt\n",
    "\n",
    "# Model selection\n",
    "model = si.SIModel(G)\n",
    "#model = vt.VoterModel(G)\n",
    "\n",
    "# Model Configuration\n",
    "cfg = mc.Configuration()\n",
    "cfg.add_model_parameter('beta', 0.01) # prob of infecteded\n",
    "cfg.add_model_parameter(\"percentage_infected\", 0.5) # initially infected  %\n",
    "model.set_initial_status(cfg)\n",
    "\n",
    "# Simulation execution\n",
    "iterations = model.iteration_bunch(60)"
   ]
  },
  {
   "cell_type": "code",
   "execution_count": null,
   "metadata": {
    "scrolled": true
   },
   "outputs": [
    {
     "name": "stdout",
     "output_type": "stream",
     "text": [
      "Iteration 1\n",
      "Infected count 1000\n",
      "Separations:\n",
      "[0.5618313501404059, 0.5082279330593185, 0.49708229208253774, 0.48698795870637607, 0.5617106418858099, 0.6357843263437845]\n",
      "Iteration 2\n",
      "Infected count 1001\n",
      "Separations:\n",
      "[0.5626020813923469, 0.507720212846472, 0.49732177575924674, 0.4889981376899035, 0.5622143351924609, 0.6358533830085659]\n",
      "Iteration 3\n",
      "Infected count 1001\n",
      "Separations:\n",
      "[0.5626020813923469, 0.507720212846472, 0.49732177575924674, 0.4889981376899035, 0.5622143351924609, 0.6358533830085659]\n",
      "Iteration 4\n",
      "Infected count 1002\n",
      "Separations:\n",
      "[0.5646810205821636, 0.5083220410600423, 0.49770866413263953, 0.4891062661619541, 0.5621961479809875, 0.6352104574443509]\n",
      "Iteration 5\n",
      "Infected count 1003\n",
      "Separations:\n",
      "[0.5651757020779408, 0.5086626875126457, 0.49847462852479163, 0.48934655823805234, 0.5622967342526044, 0.635582506184225]\n",
      "Iteration 6\n",
      "Infected count 1003\n",
      "Separations:\n",
      "[0.5651757020779408, 0.5086626875126457, 0.49847462852479163, 0.48934655823805234, 0.5622967342526044, 0.635582506184225]\n",
      "Iteration 7\n",
      "Infected count 1003\n"
     ]
    }
   ],
   "source": [
    "show_degrees = 10\n",
    "infected = []\n",
    "infected_count = []\n",
    "avg_traits = []\n",
    "for it in range(0, len(iterations)) :\n",
    "    print('Iteration', it+1)\n",
    "    for node, i in iterations[it]['status'].items() :\n",
    "        if i == 1:\n",
    "            infected.append(node)\n",
    "            \n",
    "    print('Infected count', len(infected))\n",
    "    #kawai_draw(G)\n",
    "    percentages = infected_average_by_separation_degree(G, separation_degrees, infected)\n",
    "    \n",
    "    print('Separations:')\n",
    "    to_show = []\n",
    "    for d in range(0, show_degrees) :\n",
    "        if d in percentages :\n",
    "            to_show.append(percentages[d])\n",
    "        else :\n",
    "            break\n",
    "    \n",
    "    avg_traits.append(percentages) # needed for propensity\n",
    "    infected_count.append(len(infected)) # needed for the random graph generation\n",
    "    \n",
    "    print(to_show)"
   ]
  },
  {
   "cell_type": "code",
   "execution_count": null,
   "metadata": {
    "scrolled": true
   },
   "outputs": [],
   "source": [
    "''' Start Random distribution of infecteds section '''\n",
    "import random\n",
    "from collections import defaultdict\n",
    "from copy import deepcopy # only used for testing\n",
    "\n",
    "def simulate_random_infecteds(G_rand, num_nodes, radius_split_rand, infected_count):\n",
    "    \n",
    "    '''\n",
    "    Randomly picks the same number of infecteds as in the \n",
    "    non-random model (for a each iteration of the spreading)\n",
    "    Returns a list of @infected_average_by_radius lists\n",
    "    '''\n",
    "    print(infected_count)\n",
    "    random_infected = []\n",
    "    random_not_infected = list(range(0, num_nodes))\n",
    "    prev_num_infects = 0\n",
    "    new_num_infects = 0\n",
    "    avg_trait_sharing_by_radius = []\n",
    "    for num_infects in infected_count:\n",
    "        print(\"num_infects: \", num_infects)\n",
    "        new_num_infects = num_infects - prev_num_infects\n",
    "        print(\"new infecteds: \", new_num_infects)\n",
    "        # prev_random_infected = deepcopy(random_infected) # for testing purposes\n",
    "\n",
    "        for _ in range(new_num_infects):\n",
    "            new_inf = random.choice(random_not_infected)\n",
    "            random_infected.append(new_inf)\n",
    "            random_not_infected.remove(new_inf)\n",
    "            \n",
    "        prev_num_infects = num_infects\n",
    "        percentage = infected_average_by_separation_degree(G_rand, separation_degrees, random_infected)\n",
    "        avg_trait_sharing_by_radius.append(percentage)\n",
    "        print(percentage)    \n",
    "        \n",
    "        # print(\"¨¨¨¨¨¨¨¨¨Infected list: \", len(random_infected), \" nodes\\n\", random_infected)\n",
    "        # print(\"¨¨¨¨¨¨¨¨¨NOT Infected list:\", len(random_not_infected), \" nodes\\n\", random_not_infected) \n",
    "        # print_list_differences(prev_random_infected, random_infected)\n",
    "    return (avg_trait_sharing_by_radius, random_infected)\n",
    "\n",
    "avg_random_trait_sharing_by_radius, final_random_infected = simulate_random_infecteds(G, num_nodes, separation_degrees, infected_count)"
   ]
  },
  {
   "cell_type": "code",
   "execution_count": null,
   "metadata": {
    "scrolled": false
   },
   "outputs": [],
   "source": [
    "def propensity_by_radius(iteration, radius, avg_traits, rand_avg_traits):\n",
    "    return (avg_traits[iteration-1][radius-1] / rand_avg_traits[iteration-1][radius-1]) - 1\n",
    "\n",
    "def all_propensities(iteration, max_radius, avg_traits, rand_avg_traits):\n",
    "    all_propensities = []\n",
    "    print(iteration)\n",
    "    for r in range(1, max_radius + 1):\n",
    "        print(r)\n",
    "        \n",
    "        all_propensities.append(propensity_by_radius(iteration, r, avg_traits, rand_avg_traits))\n",
    "    return all_propensities\n",
    "\n",
    "prop_one = propensity_by_radius(10, 1, avg_traits, avg_random_trait_sharing_by_radius)\n",
    "prop_two = propensity_by_radius(10, 2, avg_traits, avg_random_trait_sharing_by_radius)\n",
    "print(prop_one)\n",
    "\n",
    "all_props = all_propensities(10, 6, avg_traits, avg_random_trait_sharing_by_radius)\n",
    "print(all_props)\n",
    "\n",
    "def normalized_propensities(max_radius, all_propensities):\n",
    "    normalized_propensities = []\n",
    "    for r in range(max_radius):\n",
    "        normalized_propensities.append(all_propensities[r] / all_propensities[0])\n",
    "    \n",
    "    return normalized_propensities\n",
    "        \n",
    "print(normalized_propensities(6, all_props))"
   ]
  },
  {
   "cell_type": "code",
   "execution_count": null,
   "metadata": {},
   "outputs": [],
   "source": [
    "#Do not delete, create list for each degree and add to report\n",
    "avg = 0\n",
    "for node in separation_degrees :\n",
    "    if len(node) > 5 :\n",
    "        avg += len(node[5])\n",
    "\n",
    "print(avg / len(separation_degrees))"
   ]
  },
  {
   "cell_type": "code",
   "execution_count": null,
   "metadata": {},
   "outputs": [],
   "source": [
    "print(2 * G.number_of_edges() / G.number_of_nodes())"
   ]
  },
  {
   "cell_type": "code",
   "execution_count": null,
   "metadata": {},
   "outputs": [],
   "source": [
    "'''import pickle\n",
    "\n",
    "with open('2000_nodes_scale_free.graph', 'wb') as f:  # Python 3: open(..., 'wb')\n",
    "    pickle.dump(G, f)'''"
   ]
  },
  {
   "cell_type": "code",
   "execution_count": null,
   "metadata": {},
   "outputs": [],
   "source": [
    "'''import pickle\n",
    "\n",
    "with open('2000_nodes_scale_free.graph', 'rb') as f:  # Python 3: open(..., 'rb')\n",
    "    Gtest = pickle.load(f)\n",
    "\n",
    "print(2 * Gtest.number_of_edges() / Gtest.number_of_nodes())'''"
   ]
  },
  {
   "cell_type": "code",
   "execution_count": null,
   "metadata": {},
   "outputs": [],
   "source": []
  }
 ],
 "metadata": {
  "kernelspec": {
   "display_name": "Python 3",
   "language": "python",
   "name": "python3"
  },
  "language_info": {
   "codemirror_mode": {
    "name": "ipython",
    "version": 3
   },
   "file_extension": ".py",
   "mimetype": "text/x-python",
   "name": "python",
   "nbconvert_exporter": "python",
   "pygments_lexer": "ipython3",
   "version": "3.7.0"
  }
 },
 "nbformat": 4,
 "nbformat_minor": 2
}
