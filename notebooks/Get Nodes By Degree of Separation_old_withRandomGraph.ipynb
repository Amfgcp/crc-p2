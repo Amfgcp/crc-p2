{
 "cells": [
  {
   "cell_type": "code",
   "execution_count": null,
   "metadata": {},
   "outputs": [],
   "source": [
    "'''\n",
    "Scroll down to find random distribution + TODO work of propensities\n",
    "'''\n",
    "\n",
    "import networkx as nx\n",
    "import random\n",
    "import copy\n",
    "import time\n",
    "import matplotlib.pyplot as plt\n",
    "import sys\n",
    "%matplotlib inline\n",
    "\n",
    "def progressBar(value, endvalue, bar_length=20):\n",
    "\n",
    "        percent = float(value) / endvalue\n",
    "        arrow = '-' * int(round(percent * bar_length)-1) + '>'\n",
    "        spaces = ' ' * (bar_length - len(arrow))\n",
    "\n",
    "        sys.stdout.write(\"\\rCalculating: [{0}] {1}%\".format(arrow + spaces, int(round(percent * 100))))\n",
    "        sys.stdout.flush()\n",
    "\n",
    "        \n",
    "def kawai_draw(G, infected=[]) :\n",
    "    colors = []\n",
    "    for node in G :\n",
    "        if node in infected :\n",
    "            colors.append('red')\n",
    "        else :\n",
    "            colors.append('green')\n",
    "    nx.draw(G, layout=nx.kamada_kawai_layout(G), node_color=colors, node_size = 30, alpha = 0.7)\n",
    "    plt.show()\n",
    "    \n",
    "G = nx.scale_free_graph(1000)\n",
    "G = G.to_undirected()"
   ]
  },
  {
   "cell_type": "code",
   "execution_count": null,
   "metadata": {},
   "outputs": [],
   "source": [
    "#kawai_draw(G)"
   ]
  },
  {
   "cell_type": "code",
   "execution_count": null,
   "metadata": {},
   "outputs": [],
   "source": [
    "def generate_egos(G, node, max_radius):\n",
    "    resulting_G = []\n",
    "    \n",
    "    G_ego = nx.ego_graph(G, node, radius=1)\n",
    "    if len(G_ego) > 1 :\n",
    "        resulting_G.append(G_ego)\n",
    "        G_ego_previous = G_ego\n",
    "\n",
    "        for i in range(2, max_radius+1) :\n",
    "            G_ego = nx.ego_graph(G, node, radius=i)\n",
    "            G_ego_toremove = copy.deepcopy(G_ego)\n",
    "            G_ego_toremove.remove_nodes_from(G_ego_previous)\n",
    "            G_ego_previous = G_ego\n",
    "\n",
    "            if len(G_ego_toremove) > 0 :\n",
    "                resulting_G.append(G_ego_toremove)\n",
    "            else :\n",
    "                break\n",
    "\n",
    "        resulting_G[0].remove_node(node)\n",
    "    return resulting_G\n",
    "\n",
    "def generate_egos_allnodes(G, max_radius) :\n",
    "    result = []\n",
    "    \n",
    "    nodecount = 1\n",
    "    for node in G :\n",
    "        progressBar(nodecount, len(G), 50)\n",
    "        result.append(generate_egos(G, node, max_radius))\n",
    "        nodecount +=1\n",
    "        \n",
    "    return result\n",
    "\n",
    "radius_split = generate_egos_allnodes(G, 10)"
   ]
  },
  {
   "cell_type": "code",
   "execution_count": null,
   "metadata": {
    "scrolled": true
   },
   "outputs": [],
   "source": [
    "def infected_percentage(G, infected) :\n",
    "    \n",
    "    count = 0\n",
    "    \n",
    "    for node in G :\n",
    "        if node in infected :\n",
    "            count += 1\n",
    "        \n",
    "    return count / len(G)\n",
    "\n",
    "def infected_average_by_radius(G, Gs_list, radius, infected) :\n",
    "    node_count = []\n",
    "    percentage_sum = []\n",
    "    for _ in range(0, radius) :\n",
    "        node_count.append(0)\n",
    "        percentage_sum.append(0)\n",
    "            \n",
    "    current_node = 0\n",
    "    for node in Gs_list :\n",
    "        if current_node in infected :\n",
    "            current_radius = 0\n",
    "            for item in node :\n",
    "                percentage_sum[current_radius] += infected_percentage(item, infected)\n",
    "                node_count[current_radius] += 1\n",
    "                current_radius += 1\n",
    "        current_node += 1\n",
    "        \n",
    "    average_by_radius = []\n",
    "    for i in range(0, radius) :\n",
    "        if node_count[i] > 0 :\n",
    "            average_by_radius.append(percentage_sum[i] / node_count[i])\n",
    "        \n",
    "    return average_by_radius"
   ]
  },
  {
   "cell_type": "code",
   "execution_count": null,
   "metadata": {
    "scrolled": false
   },
   "outputs": [],
   "source": [
    "import networkx as nx\n",
    "import ndlib.models.ModelConfig as mc\n",
    "import ndlib.models.epidemics.SIModel as si\n",
    "\n",
    "# Model selection\n",
    "model = si.SIModel(G)\n",
    "\n",
    "# Model Configuration\n",
    "cfg = mc.Configuration()\n",
    "cfg.add_model_parameter('beta', 0.01) # prob of infecteded\n",
    "cfg.add_model_parameter(\"percentage_infected\", 0.5) # initially infected  %\n",
    "model.set_initial_status(cfg)\n",
    "\n",
    "# Simulation execution\n",
    "iterations = model.iteration_bunch(60)"
   ]
  },
  {
   "cell_type": "code",
   "execution_count": null,
   "metadata": {
    "scrolled": true
   },
   "outputs": [],
   "source": [
    "infected = []\n",
    "infected_count = [] # added\n",
    "avg_traits = [] # added\n",
    "for it in iterations :\n",
    "    for node, i in it['status'].items() :\n",
    "        if i == 1:\n",
    "            infected.append(node)\n",
    "            \n",
    "    print('Infected count', len(infected))    \n",
    "    print(infected_average_by_radius(G, radius_split, 10, infected))\n",
    "    \n",
    "    avg_traits.append(infected_average_by_radius(G, radius_split, 10, infected)) # needed for propensity\n",
    "    infected_count.append(len(infected)) # needed for the random graph generation"
   ]
  },
  {
   "cell_type": "code",
   "execution_count": null,
   "metadata": {},
   "outputs": [],
   "source": [
    "#kawai_draw(G, infected)"
   ]
  },
  {
   "cell_type": "code",
   "execution_count": null,
   "metadata": {},
   "outputs": [],
   "source": [
    "''' Start Random distribution of infecteds section '''\n",
    "import random\n",
    "from collections import defaultdict\n",
    "from copy import deepcopy # only used for testing\n",
    " \n",
    "# auxiliary: print elements different between 2 lists\n",
    "def print_list_differences(prev_list, curr_list):\n",
    "    s = set(prev_list) # transform to set, because O(1) to find elem\n",
    "    temp = [x for x in curr_list if x not in s]\n",
    "    print(temp)\n",
    "\n",
    "num_nodes = 1000\n",
    "G_rand = nx.scale_free_graph(num_nodes).to_undirected() # this will be our random graph\n",
    "radius_split_rand = generate_egos_allnodes(G_rand, 10)"
   ]
  },
  {
   "cell_type": "code",
   "execution_count": null,
   "metadata": {},
   "outputs": [],
   "source": [
    "def simulate_random_infecteds(G_rand, num_nodes, radius_split_rand, infected_count):\n",
    "    '''\n",
    "    Randomly picks the same number of infecteds as in the \n",
    "    non-random model (for a each iteration of the spreading)\n",
    "    Returns a list of @infected_average_by_radius lists\n",
    "    '''\n",
    "    print(infected_count)\n",
    "    random_infected = []\n",
    "    random_not_infected = list(range(0, num_nodes))\n",
    "    prev_num_infects = 0\n",
    "    new_num_infects = 0\n",
    "    avg_trait_sharing_by_radius = []\n",
    "    for num_infects in infected_count:\n",
    "        print(\"num_infects: \", num_infects)\n",
    "        new_num_infects = num_infects - prev_num_infects\n",
    "        print(\"new infecteds: \", new_num_infects)\n",
    "        # prev_random_infected = deepcopy(random_infected) # for testing purposes\n",
    "\n",
    "        for _ in range(new_num_infects):\n",
    "            new_inf = random.choice(random_not_infected)\n",
    "            random_infected.append(new_inf)\n",
    "            random_not_infected.remove(new_inf)\n",
    "            \n",
    "        prev_num_infects = num_infects\n",
    "        avg_trait_sharing_by_radius.append(infected_average_by_radius(G_rand, radius_split_rand, 10, random_infected))\n",
    "        print(infected_average_by_radius(G_rand, radius_split_rand, 10, random_infected))    \n",
    "        \n",
    "        # print(\"¨¨¨¨¨¨¨¨¨Infected list: \", len(random_infected), \" nodes\\n\", random_infected)\n",
    "        # print(\"¨¨¨¨¨¨¨¨¨NOT Infected list:\", len(random_not_infected), \" nodes\\n\", random_not_infected) \n",
    "        # print_list_differences(prev_random_infected, random_infected)\n",
    "    return (avg_trait_sharing_by_radius, random_infected)\n",
    "\n",
    "avg_random_trait_sharing_by_radius, final_random_infected = simulate_random_infecteds(G_rand, num_nodes, radius_split_rand, infected_count)"
   ]
  },
  {
   "cell_type": "code",
   "execution_count": null,
   "metadata": {},
   "outputs": [],
   "source": [
    "#kawai_draw(G_rand, final_random_infected)"
   ]
  },
  {
   "cell_type": "code",
   "execution_count": null,
   "metadata": {},
   "outputs": [],
   "source": [
    "''' Unfinished '''\n",
    "def propensity_by_radius(iteration, radius, avg_traits, rand_avg_traits):\n",
    "    return (avg_traits[iteration-1][radius-1] / rand_avg_traits[iteration-1][radius-1]) - 1\n",
    "\n",
    "def all_propensities(iteration, max_radius, avg_traits, rand_avg_traits):\n",
    "    all_propensities = []\n",
    "    for r in range(max_radius):\n",
    "        all_propensities.append(propensity_by_radius(iteration, r, avg_traits, rand_avg_traits))\n",
    "    return all_propensities\n",
    "\n",
    "prop_one = propensity_by_radius(10, 1, avg_traits, avg_random_trait_sharing_by_radius)\n",
    "prop_two = propensity_by_radius(10, 2, avg_traits, avg_random_trait_sharing_by_radius)\n",
    "print(prop_one)\n",
    "\n",
    "all_props = all_propensities(10, 6, avg_traits, avg_random_trait_sharing_by_radius)\n",
    "\n",
    "# def normalized_propensities(max_radius, all_propensities):\n",
    "#     normalizeds_propensisites = []\n",
    "#     for r in max_radius:\n",
    "        "
   ]
  }
 ],
 "metadata": {
  "kernelspec": {
   "display_name": "Python 3",
   "language": "python",
   "name": "python3"
  },
  "language_info": {
   "codemirror_mode": {
    "name": "ipython",
    "version": 3
   },
   "file_extension": ".py",
   "mimetype": "text/x-python",
   "name": "python",
   "nbconvert_exporter": "python",
   "pygments_lexer": "ipython3",
   "version": "3.6.5"
  }
 },
 "nbformat": 4,
 "nbformat_minor": 2
}
